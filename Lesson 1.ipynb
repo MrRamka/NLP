{
 "cells": [
  {
   "cell_type": "code",
   "execution_count": 1,
   "metadata": {},
   "outputs": [
    {
     "name": "stderr",
     "output_type": "stream",
     "text": [
      "[nltk_data] Downloading package punkt to\n",
      "[nltk_data]     C:\\Users\\ramil\\AppData\\Roaming\\nltk_data...\n",
      "[nltk_data]   Package punkt is already up-to-date!\n",
      "[nltk_data] Downloading package stopwords to\n",
      "[nltk_data]     C:\\Users\\ramil\\AppData\\Roaming\\nltk_data...\n",
      "[nltk_data]   Package stopwords is already up-to-date!\n"
     ]
    },
    {
     "data": {
      "text/plain": [
       "True"
      ]
     },
     "execution_count": 1,
     "metadata": {},
     "output_type": "execute_result"
    }
   ],
   "source": [
    "import nltk\n",
    "nltk.download('punkt')\n",
    "nltk.download('stopwords')"
   ]
  },
  {
   "cell_type": "code",
   "execution_count": 2,
   "metadata": {},
   "outputs": [],
   "source": [
    "from nltk.stem import PorterStemmer\n",
    "import pandas as pd\n",
    "from sklearn.model_selection import train_test_split\n",
    "from sklearn.metrics import classification_report"
   ]
  },
  {
   "cell_type": "code",
   "execution_count": 3,
   "metadata": {},
   "outputs": [],
   "source": [
    "# load data\n",
    "df = pd.read_csv('labeledTrainData.tsv', sep='\\t', encoding='utf-8')"
   ]
  },
  {
   "cell_type": "code",
   "execution_count": 4,
   "metadata": {},
   "outputs": [
    {
     "data": {
      "text/plain": [
       "{'id': '5814_8',\n",
       " 'sentiment': 1,\n",
       " 'review': \"With all this stuff going down at the moment with MJ i've started listening to his music, watching the odd documentary here and there, watched The Wiz and watched Moonwalker again. Maybe i just want to get a certain insight into this guy who i thought was really cool in the eighties just to maybe make up my mind whether he is guilty or innocent. Moonwalker is part biography, part feature film which i remember going to see at the cinema when it was originally released. Some of it has subtle messages about MJ's feeling towards the press and also the obvious message of drugs are bad m'kay.<br /><br />Visually impressive but of course this is all about Michael Jackson so unless you remotely like MJ in anyway then you are going to hate this and find it boring. Some may call MJ an egotist for consenting to the making of this movie BUT MJ and most of his fans would say that he made it for the fans which if true is really nice of him.<br /><br />The actual feature film bit when it finally starts is only on for 20 minutes or so excluding the Smooth Criminal sequence and Joe Pesci is convincing as a psychopathic all powerful drug lord. Why he wants MJ dead so bad is beyond me. Because MJ overheard his plans? Nah, Joe Pesci's character ranted that he wanted people to know it is he who is supplying drugs etc so i dunno, maybe he just hates MJ's music.<br /><br />Lots of cool things in this like MJ turning into a car and a robot and the whole Speed Demon sequence. Also, the director must have had the patience of a saint when it came to filming the kiddy Bad sequence as usually directors hate working with one kid let alone a whole bunch of them performing a complex dance scene.<br /><br />Bottom line, this movie is for people who like MJ on one level or another (which i think is most people). If not, then stay away. It does try and give off a wholesome message and ironically MJ's bestest buddy in this movie is a girl! Michael Jackson is truly one of the most talented people ever to grace this planet but is he guilty? Well, with all the attention i've gave this subject....hmmm well i don't know because people can be different behind closed doors, i know this for a fact. He is either an extremely nice but stupid guy or one of the most sickest liars. I hope he is not the latter.\"}"
      ]
     },
     "execution_count": 4,
     "metadata": {},
     "output_type": "execute_result"
    }
   ],
   "source": [
    "df.to_dict('records')[0]"
   ]
  },
  {
   "cell_type": "code",
   "execution_count": 5,
   "metadata": {},
   "outputs": [],
   "source": [
    "texts = df.review.tolist()\n",
    "sentiment = df.sentiment.tolist()"
   ]
  },
  {
   "cell_type": "code",
   "execution_count": 6,
   "metadata": {},
   "outputs": [],
   "source": [
    "import re\n",
    "from nltk.corpus import stopwords\n",
    "from nltk.tokenize import RegexpTokenizer\n",
    "import math\n",
    "\n",
    "def pmiCalc(classProb, allProb):\n",
    "    if classProb == 0 or allProb == 0: \n",
    "        return 0\n",
    "    return math.log10(classProb / allProb)\n",
    "\n",
    "cleanr = re.compile('<.*?>|&([a-z0-9]+|#[0-9]{1,6}|#x[0-9a-f]{1,6});')\n",
    "\n",
    "def cleanhtml(text):\n",
    "    cleanr = re.compile('<.*?>')\n",
    "    cleantext = re.sub(cleanr, '', text)\n",
    "    return cleantext\n",
    "\n",
    "def word_tokenize(text):\n",
    "    tokenizer = RegexpTokenizer(r'\\w+')\n",
    "    clean = tokenizer.tokenize(text)\n",
    "    return clean\n",
    "   \n",
    "def stop_words(tokenize_words):\n",
    "    stopWords = set(stopwords.words('english'))\n",
    "    wordsFiltered = []\n",
    "    for w in tokenize_words:\n",
    "        if w not in stopWords:\n",
    "            wordsFiltered.append(w.lower())\n",
    "    return wordsFiltered\n",
    "\n",
    "\n",
    "def preprocess_text(text):\n",
    "    #clean html \n",
    "    clean = cleanhtml(text)\n",
    "    \n",
    "    # tokenize and remove punctuation \n",
    "    tokenize = word_tokenize(clean)\n",
    "    \n",
    "    # stop words and lower\n",
    "    stop = stop_words(tokenize)\n",
    "    \n",
    "    return stop\n",
    "\n",
    "\n",
    "def space_tokenize(text):\n",
    "    # a_b_c -> ['a', 'b', 'c']\n",
    "    split_array = text.split(' ');\n",
    "    return split_array\n",
    "    \n",
    "    \n",
    "def get_vocab(texts, rare = False, percent = 10):\n",
    "    # unique words\n",
    "    all_word_dict = {}\n",
    "    \n",
    "    all_words_set = set()\n",
    "    for text in texts: \n",
    "#       all_words = space_tokenize(text)\n",
    "        \n",
    "        all_words = preprocess_text(text)\n",
    "        for word in all_words: \n",
    "            wd = all_word_dict.get(word)\n",
    "            if wd == None:\n",
    "                all_word_dict.update([(word, 1)])\n",
    "            else:\n",
    "                all_word_dict.update([(word, wd+1)])\n",
    "                \n",
    "        words_set = all_words_set.update(all_words)\n",
    "    all_sorted = {k: v for k, v in sorted(all_word_dict.items(), key=lambda item: item[1])}\n",
    "    \n",
    "    words_amount = len(all_sorted)\n",
    "    delta_word_amount = round(words_amount / percent)\n",
    "    \n",
    "    \n",
    "    words = []\n",
    "    for k, v in all_sorted.items():\n",
    "        words.append([k, v])\n",
    "      \n",
    "    print(\"all: \", len(words), \"persent: \", percent)\n",
    "#     remove rare and popular \n",
    "    without_rare_and_popular = words[delta_word_amount: len(words) - delta_word_amount]\n",
    "    print(\"without_rare_and_popular\", len(without_rare_and_popular))\n",
    "\n",
    "    return dict(without_rare_and_popular)\n",
    "\n",
    "\n",
    "\n",
    "\n",
    "\n",
    "\n",
    "class BOWencoder:\n",
    "    def __init__(self, vocab=None, tokenize=preprocess_text):\n",
    "        self.vocab = vocab\n",
    "        self.vocab2idx = self.get_vocab2idx(vocab)\n",
    "        self.tokenize = tokenize\n",
    "        \n",
    "    def encode_single_text(self, text):\n",
    "        \"\"\"\n",
    "            text -> vector\n",
    "        \"\"\"\n",
    "#         words = space_tokenize(text)\n",
    "        words = self.tokenize(text)\n",
    "        vector = [0 for i in range(len(self.vocab))]\n",
    "        \n",
    "        for text_word in words:\n",
    "            if self.vocab2idx.get(text_word) != None:\n",
    "                vector[self.vocab2idx.get(text_word)] = 1   \n",
    "        return vector\n",
    "\n",
    "        \n",
    "    def encode_texts(self, texts):\n",
    "        \"\"\"\n",
    "            multiple text\n",
    "        \"\"\"\n",
    "        vector_text_data = []\n",
    "        for text in texts:\n",
    "            vector_text_data.append(self.encode_single_text(text))\n",
    "        return vector_text_data\n",
    "        \n",
    "    def get_vocab2idx(self, vocab):\n",
    "        \"\"\" \n",
    "           id -> word dict\n",
    "        \"\"\"\n",
    "        dictV = {word: idx for idx, word in zip(range(len(vocab)), vocab)}\n",
    "        return dictV"
   ]
  },
  {
   "cell_type": "code",
   "execution_count": 7,
   "metadata": {},
   "outputs": [],
   "source": [
    "class NaiveBayesClassifier:\n",
    "    def __init__(self, n_classes):\n",
    "        self.n_classes = n_classes\n",
    "        self.class_probs = {}\n",
    "        self.conditional_probabilities = {}\n",
    "        self.pmi = {}\n",
    "        self.idf = []\n",
    "\n",
    "    def fit(self, X, y):\n",
    "        \"\"\"\n",
    "            X - matrix\n",
    "            y - result\n",
    "        \"\"\"\n",
    "#         pmi \n",
    "        # class_probs\n",
    "        y_len = len(y)\n",
    "        positive_amount = sum(y)\n",
    "        positive = positive_amount / y_len\n",
    "        negative = 1 - positive\n",
    "        self.class_probs.update([(0, negative), (1, positive)])\n",
    "        print(positive, negative)\n",
    "        # conditional_probabilities\n",
    "        arr_len = len(X[0])\n",
    "        pos_f_in_neg = [0 for i in range(arr_len)]\n",
    "        pos_f_in_pos = [0 for i in range(arr_len)]\n",
    "        pos_f_in_all = [0 for i in range(arr_len)]\n",
    "        for row, y_idx in zip(X, range(y_len)):\n",
    "            for item_idx in range(len(row)):\n",
    "                pos_f_in_all[item_idx] += row[item_idx]\n",
    "                if y[y_idx] == 0:\n",
    "                    pos_f_in_neg[item_idx] += row[item_idx]\n",
    "#                     pos_f_in_neg[item_idx] += 1\n",
    "                else:\n",
    "                    pos_f_in_pos[item_idx] += row[item_idx]\n",
    "#                     pos_f_in_pos[item_idx] += 1\n",
    "                    \n",
    "        pos_f_in_negative = pos_f_in_neg\n",
    "        pos_f_in_positive = pos_f_in_pos\n",
    "        pos_f_in_all_words = pos_f_in_all\n",
    "#         print(pos_f_in_positive, pos_f_in_negative)\n",
    "        \n",
    "        for idx in range(len(pos_f_in_neg)):\n",
    "            pos_f_in_neg[idx] /= (y_len - positive_amount)\n",
    "            pos_f_in_pos[idx] /= (positive_amount)\n",
    "            pos_f_in_all[idx] /= y_len\n",
    "        self.conditional_probabilities.update([(0, pos_f_in_neg), (1, pos_f_in_pos)])\n",
    "        \n",
    "#         pmi\n",
    "        neg_pmi = []\n",
    "        pos_pmi = []\n",
    "        for idx in range(len(pos_f_in_neg)):\n",
    "            neg_pmi.append({idx: pmiCalc(pos_f_in_neg[idx], pos_f_in_all[idx])})\n",
    "            pos_pmi.append({idx: pmiCalc(pos_f_in_pos[idx], pos_f_in_all[idx])})\n",
    "        \n",
    "        self.pmi = dict([(0, neg_pmi), (1, pos_pmi)])\n",
    "#         print(self.pmi)\n",
    "#         print(self.conditional_probabilities)\n",
    "\n",
    "#         idf\n",
    "        idf_temp = []\n",
    "        for idx in range(len(pos_f_in_neg)):\n",
    "            idf_temp.append(math.log10(y_len/(pos_f_in_negative[idx]+pos_f_in_positive[idx])))\n",
    "#         print(idf_temp)\n",
    "\n",
    "\n",
    "\n",
    "        \n",
    "    def predict(self, X):\n",
    "        result_array = []\n",
    "        f = open('a.txt', 'w')\n",
    "        for row in X:\n",
    "            positive_value = self.class_probs.get(1)\n",
    "            negative_value = self.class_probs.get(0)\n",
    "            f.write(str(positive_value) + \" \" +  str(negative_value) + \"\\n\")\n",
    "            for item_idx in range(len(row)):\n",
    "                \n",
    "                if row[item_idx]:\n",
    "                    if self.conditional_probabilities.get(1)[item_idx] != 0.0:\n",
    "                        positive_value *= self.conditional_probabilities.get(1)[item_idx] \n",
    "                    if self.conditional_probabilities.get(0)[item_idx] != 0.0:\n",
    "                        negative_value *= self.conditional_probabilities.get(0)[item_idx] \n",
    "#                 else:\n",
    "#                     positive_value *= (1 - self.conditional_probabilities.get(1)[item_idx])\n",
    "#                     negative_value *= (1 - self.conditional_probabilities.get(0)[item_idx])\n",
    "                f.write(str(positive_value) + \" \" +  str(negative_value) + \" \" + str(row[item_idx]) + \" \"+ str(self.conditional_probabilities.get(1)[item_idx])+ \" \"+ str(self.conditional_probabilities.get(0)[item_idx]) + \"\\n\")\n",
    "            \n",
    "            result_array.append(1 if positive_value > negative_value else 0)\n",
    "            f.write(\"---\\n\")\n",
    "        return result_array\n"
   ]
  },
  {
   "cell_type": "code",
   "execution_count": 8,
   "metadata": {},
   "outputs": [],
   "source": [
    "amount = 1000\n",
    "X_train, X_test, y_train, y_test = train_test_split(texts[:amount], sentiment[:amount])\n",
    "train_texts = X_train\n",
    "# vocab = get_vocab(X_train)\n",
    "# vocab.update(get_vocab(X_test[:amount]))\n",
    "# pmi_vocab = get_pmi_vocab(vocab, X_train, y_train);\n",
    "# bow_encoder = BOWencoder(vocab=vocab)\n",
    "# print(vocab)\n",
    "# X_train = bow_encoder.encode_texts(X_train)\n",
    "# X_test = bow_encoder.encode_texts(X_test)\n",
    "# print(len(X_train), len(y_train))"
   ]
  },
  {
   "cell_type": "code",
   "execution_count": 10,
   "metadata": {},
   "outputs": [
    {
     "name": "stdout",
     "output_type": "stream",
     "text": [
      "0.484 0.516\n"
     ]
    },
    {
     "ename": "TypeError",
     "evalue": "unsupported operand type(s) for +=: 'int' and 'str'",
     "output_type": "error",
     "traceback": [
      "\u001b[1;31m---------------------------------------------------------------------------\u001b[0m",
      "\u001b[1;31mTypeError\u001b[0m                                 Traceback (most recent call last)",
      "\u001b[1;32m<ipython-input-10-d2370a9b6d5f>\u001b[0m in \u001b[0;36m<module>\u001b[1;34m\u001b[0m\n\u001b[0;32m      1\u001b[0m \u001b[0mmodel\u001b[0m \u001b[1;33m=\u001b[0m \u001b[0mNaiveBayesClassifier\u001b[0m\u001b[1;33m(\u001b[0m\u001b[0mn_classes\u001b[0m\u001b[1;33m=\u001b[0m\u001b[1;36m2\u001b[0m\u001b[1;33m)\u001b[0m\u001b[1;33m\u001b[0m\u001b[1;33m\u001b[0m\u001b[0m\n\u001b[1;32m----> 2\u001b[1;33m \u001b[0mmodel\u001b[0m\u001b[1;33m.\u001b[0m\u001b[0mfit\u001b[0m\u001b[1;33m(\u001b[0m\u001b[0mX_train\u001b[0m\u001b[1;33m,\u001b[0m \u001b[0my_train\u001b[0m\u001b[1;33m)\u001b[0m\u001b[1;33m\u001b[0m\u001b[1;33m\u001b[0m\u001b[0m\n\u001b[0m\u001b[0;32m      3\u001b[0m \u001b[0my_pred\u001b[0m \u001b[1;33m=\u001b[0m \u001b[0mmodel\u001b[0m\u001b[1;33m.\u001b[0m\u001b[0mpredict\u001b[0m\u001b[1;33m(\u001b[0m\u001b[0mX_test\u001b[0m\u001b[1;33m)\u001b[0m\u001b[1;33m\u001b[0m\u001b[1;33m\u001b[0m\u001b[0m\n\u001b[0;32m      4\u001b[0m \u001b[0mprint\u001b[0m\u001b[1;33m(\u001b[0m\u001b[0my_pred\u001b[0m\u001b[1;33m)\u001b[0m\u001b[1;33m\u001b[0m\u001b[1;33m\u001b[0m\u001b[0m\n\u001b[0;32m      5\u001b[0m \u001b[0mprint\u001b[0m\u001b[1;33m(\u001b[0m\u001b[0my_test\u001b[0m\u001b[1;33m[\u001b[0m\u001b[1;33m:\u001b[0m\u001b[0mamount\u001b[0m\u001b[1;33m]\u001b[0m\u001b[1;33m)\u001b[0m\u001b[1;33m\u001b[0m\u001b[1;33m\u001b[0m\u001b[0m\n",
      "\u001b[1;32m<ipython-input-7-1228736fa2a1>\u001b[0m in \u001b[0;36mfit\u001b[1;34m(self, X, y)\u001b[0m\n\u001b[0;32m     27\u001b[0m         \u001b[1;32mfor\u001b[0m \u001b[0mrow\u001b[0m\u001b[1;33m,\u001b[0m \u001b[0my_idx\u001b[0m \u001b[1;32min\u001b[0m \u001b[0mzip\u001b[0m\u001b[1;33m(\u001b[0m\u001b[0mX\u001b[0m\u001b[1;33m,\u001b[0m \u001b[0mrange\u001b[0m\u001b[1;33m(\u001b[0m\u001b[0my_len\u001b[0m\u001b[1;33m)\u001b[0m\u001b[1;33m)\u001b[0m\u001b[1;33m:\u001b[0m\u001b[1;33m\u001b[0m\u001b[1;33m\u001b[0m\u001b[0m\n\u001b[0;32m     28\u001b[0m             \u001b[1;32mfor\u001b[0m \u001b[0mitem_idx\u001b[0m \u001b[1;32min\u001b[0m \u001b[0mrange\u001b[0m\u001b[1;33m(\u001b[0m\u001b[0mlen\u001b[0m\u001b[1;33m(\u001b[0m\u001b[0mrow\u001b[0m\u001b[1;33m)\u001b[0m\u001b[1;33m)\u001b[0m\u001b[1;33m:\u001b[0m\u001b[1;33m\u001b[0m\u001b[1;33m\u001b[0m\u001b[0m\n\u001b[1;32m---> 29\u001b[1;33m                 \u001b[0mpos_f_in_all\u001b[0m\u001b[1;33m[\u001b[0m\u001b[0mitem_idx\u001b[0m\u001b[1;33m]\u001b[0m \u001b[1;33m+=\u001b[0m \u001b[0mrow\u001b[0m\u001b[1;33m[\u001b[0m\u001b[0mitem_idx\u001b[0m\u001b[1;33m]\u001b[0m\u001b[1;33m\u001b[0m\u001b[1;33m\u001b[0m\u001b[0m\n\u001b[0m\u001b[0;32m     30\u001b[0m                 \u001b[1;32mif\u001b[0m \u001b[0my\u001b[0m\u001b[1;33m[\u001b[0m\u001b[0my_idx\u001b[0m\u001b[1;33m]\u001b[0m \u001b[1;33m==\u001b[0m \u001b[1;36m0\u001b[0m\u001b[1;33m:\u001b[0m\u001b[1;33m\u001b[0m\u001b[1;33m\u001b[0m\u001b[0m\n\u001b[0;32m     31\u001b[0m                     \u001b[0mpos_f_in_neg\u001b[0m\u001b[1;33m[\u001b[0m\u001b[0mitem_idx\u001b[0m\u001b[1;33m]\u001b[0m \u001b[1;33m+=\u001b[0m \u001b[0mrow\u001b[0m\u001b[1;33m[\u001b[0m\u001b[0mitem_idx\u001b[0m\u001b[1;33m]\u001b[0m\u001b[1;33m\u001b[0m\u001b[1;33m\u001b[0m\u001b[0m\n",
      "\u001b[1;31mTypeError\u001b[0m: unsupported operand type(s) for +=: 'int' and 'str'"
     ]
    }
   ],
   "source": [
    "model = NaiveBayesClassifier(n_classes=2)\n",
    "model.fit(X_train, y_train)\n",
    "y_pred = model.predict(X_test)\n",
    "print(y_pred)\n",
    "print(y_test[:amount])"
   ]
  },
  {
   "cell_type": "code",
   "execution_count": 11,
   "metadata": {},
   "outputs": [],
   "source": [
    "# print(classification_report(y_pred, y_test[:amount]))"
   ]
  },
  {
   "cell_type": "code",
   "execution_count": 12,
   "metadata": {},
   "outputs": [
    {
     "name": "stdout",
     "output_type": "stream",
     "text": [
      "['with', 'stuff', 'go', 'moment', 'mj', 'start', 'listen', 'music', 'watch', 'odd', 'documentari', 'watch', 'the', 'wiz', 'watch', 'moonwalk', 'mayb', 'want', 'get', 'certain', 'insight', 'guy', 'thought', 'realli', 'cool', 'eighti', 'mayb', 'make', 'mind', 'whether', 'guilti', 'innoc', 'moonwalk', 'part', 'biographi', 'part', 'featur', 'film', 'rememb', 'go', 'see', 'cinema', 'origin', 'releas', 'some', 'subtl', 'messag', 'mj', 'feel', 'toward', 'press', 'also', 'obviou', 'messag', 'drug', 'bad', 'kay', 'visual', 'impress', 'cours', 'michael', 'jackson', 'unless', 'remot', 'like', 'mj', 'anyway', 'go', 'hate', 'find', 'bore', 'some', 'may', 'call', 'mj', 'egotist', 'consent', 'make', 'movi', 'but', 'mj', 'fan', 'would', 'say', 'made', 'fan', 'true', 'realli', 'nice', 'the', 'actual', 'featur', 'film', 'bit', 'final', 'start', '20', 'minut', 'exclud', 'smooth', 'crimin', 'sequenc', 'joe', 'pesci', 'convinc', 'psychopath', 'power', 'drug', 'lord', 'whi', 'want', 'mj', 'dead', 'bad', 'beyond', 'becaus', 'mj', 'overheard', 'plan', 'nah', 'joe', 'pesci', 'charact', 'rant', 'want', 'peopl', 'know', 'suppli', 'drug', 'etc', 'dunno', 'mayb', 'hate', 'mj', 'music', 'lot', 'cool', 'thing', 'like', 'mj', 'turn', 'car', 'robot', 'whole', 'speed', 'demon', 'sequenc', 'also', 'director', 'must', 'patienc', 'saint', 'came', 'film', 'kiddi', 'bad', 'sequenc', 'usual', 'director', 'hate', 'work', 'one', 'kid', 'let', 'alon', 'whole', 'bunch', 'perform', 'complex', 'danc', 'scene', 'bottom', 'line', 'movi', 'peopl', 'like', 'mj', 'one', 'level', 'anoth', 'think', 'peopl', 'if', 'stay', 'away', 'it', 'tri', 'give', 'wholesom', 'messag', 'iron', 'mj', 'bestest', 'buddi', 'movi', 'girl', 'michael', 'jackson', 'truli', 'one', 'talent', 'peopl', 'ever', 'grace', 'planet', 'guilti', 'well', 'attent', 'gave', 'subject', 'hmmm', 'well', 'know', 'peopl', 'differ', 'behind', 'close', 'door', 'know', 'fact', 'he', 'either', 'extrem', 'nice', 'stupid', 'guy', 'one', 'sickest', 'liar', 'i', 'hope', 'latter']\n"
     ]
    }
   ],
   "source": [
    "# clean text\n",
    "import re\n",
    "from nltk.corpus import stopwords\n",
    "from nltk.tokenize import RegexpTokenizer\n",
    "from nltk.stem import PorterStemmer\n",
    "\n",
    "cleanr = re.compile('<.*?>|&([a-z0-9]+|#[0-9]{1,6}|#x[0-9a-f]{1,6});')\n",
    "\n",
    "def cleanhtml(text):\n",
    "    cleanr = re.compile('<.*?>')\n",
    "    cleantext = re.sub(cleanr, '', text)\n",
    "    return cleantext\n",
    "\n",
    "def word_tokenize(text):\n",
    "    tokenizer = RegexpTokenizer(r'\\w+')#fix\n",
    "    clean = tokenizer.tokenize(text)\n",
    "    return clean\n",
    "   \n",
    "def stop_words(tokenize_words):\n",
    "    stopWords = set(stopwords.words('english'))\n",
    "    wordsFiltered = []\n",
    "    for w in tokenize_words:\n",
    "        if w not in stopWords:\n",
    "            wordsFiltered.append(w.lower())\n",
    "    return wordsFiltered\n",
    "\n",
    "\n",
    "def stem(text_arr):\n",
    "    ps = PorterStemmer()\n",
    "    stem_arr = []\n",
    "    for word in text_arr:\n",
    "        stem_arr.append(ps.stem(word))\n",
    "    return stem_arr\n",
    "\n",
    "def preprocess_text(text):\n",
    "    #clean html \n",
    "    clean = cleanhtml(text)\n",
    "    \n",
    "    # tokenize and remove punctuation \n",
    "    tokenize = word_tokenize(clean)\n",
    "    \n",
    "    # stop words\n",
    "    stop = stop_words(tokenize)\n",
    "    \n",
    "    # stem \n",
    "    stem_arr = stem(stop)\n",
    "    \n",
    "    return stem_arr\n",
    "\n",
    "\n",
    "def preprocess_texts(texts):\n",
    "    tmp_set = set()\n",
    "    for text in texts:\n",
    "        arr = preprocess_text(text) \n",
    "        tmp_set.update(arr)\n",
    "    return tmp_set\n",
    "\n",
    "print(preprocess_text(df.to_dict('records')[0]['review']))"
   ]
  },
  {
   "cell_type": "code",
   "execution_count": 13,
   "metadata": {},
   "outputs": [
    {
     "ename": "NameError",
     "evalue": "name 'y_pred' is not defined",
     "output_type": "error",
     "traceback": [
      "\u001b[1;31m---------------------------------------------------------------------------\u001b[0m",
      "\u001b[1;31mNameError\u001b[0m                                 Traceback (most recent call last)",
      "\u001b[1;32m<ipython-input-13-4882ff801d77>\u001b[0m in \u001b[0;36m<module>\u001b[1;34m\u001b[0m\n\u001b[0;32m      4\u001b[0m \u001b[0mFN\u001b[0m \u001b[1;33m=\u001b[0m \u001b[1;36m0\u001b[0m\u001b[1;33m\u001b[0m\u001b[1;33m\u001b[0m\u001b[0m\n\u001b[0;32m      5\u001b[0m \u001b[1;33m\u001b[0m\u001b[0m\n\u001b[1;32m----> 6\u001b[1;33m \u001b[1;32mfor\u001b[0m \u001b[0mi\u001b[0m \u001b[1;32min\u001b[0m \u001b[0mrange\u001b[0m\u001b[1;33m(\u001b[0m\u001b[0mlen\u001b[0m\u001b[1;33m(\u001b[0m\u001b[0my_pred\u001b[0m\u001b[1;33m)\u001b[0m\u001b[1;33m)\u001b[0m\u001b[1;33m:\u001b[0m\u001b[1;33m\u001b[0m\u001b[1;33m\u001b[0m\u001b[0m\n\u001b[0m\u001b[0;32m      7\u001b[0m     \u001b[1;32mif\u001b[0m \u001b[0my_test\u001b[0m\u001b[1;33m[\u001b[0m\u001b[0mi\u001b[0m\u001b[1;33m]\u001b[0m \u001b[1;33m==\u001b[0m \u001b[0my_pred\u001b[0m\u001b[1;33m[\u001b[0m\u001b[0mi\u001b[0m\u001b[1;33m]\u001b[0m \u001b[1;32mand\u001b[0m \u001b[0my_test\u001b[0m\u001b[1;33m[\u001b[0m\u001b[0mi\u001b[0m\u001b[1;33m]\u001b[0m \u001b[1;33m==\u001b[0m \u001b[1;36m1\u001b[0m\u001b[1;33m:\u001b[0m\u001b[1;33m\u001b[0m\u001b[1;33m\u001b[0m\u001b[0m\n\u001b[0;32m      8\u001b[0m         \u001b[0mTP\u001b[0m \u001b[1;33m+=\u001b[0m \u001b[1;36m1\u001b[0m\u001b[1;33m\u001b[0m\u001b[1;33m\u001b[0m\u001b[0m\n",
      "\u001b[1;31mNameError\u001b[0m: name 'y_pred' is not defined"
     ]
    }
   ],
   "source": [
    "TP = 0\n",
    "TN = 0\n",
    "FP = 0\n",
    "FN = 0\n",
    "\n",
    "for i in range(len(y_pred)):\n",
    "    if y_test[i] == y_pred[i] and y_test[i] == 1:\n",
    "        TP += 1\n",
    "    if y_test[i] == y_pred[i] and y_test[i] == 0:\n",
    "        TN += 1\n",
    "    if y_test[i] != y_pred[i] and y_test[i] == 1:\n",
    "        FN += 1\n",
    "    if y_test[i] != y_pred[i] and y_test[i] == 0:\n",
    "        FP += 1\n",
    "\n",
    "precision_1 = TP / (TP + FP) if (TP + FP) > 0 else 0\n",
    "precision_0 = TN / (FN + TN) if (FN + TN) > 0 else 0\n",
    "recall_1 = TP / (TP + FN) if (TP + FN) > 0 else 0\n",
    "recall_0 = TN / (TN + FP) if (TN + FP) > 0 else 0\n",
    "\n",
    "print(\"precision: \", precision_1, precision_0)\n",
    "print(\"recall: \", recall_1, recall_0)\n",
    "\n",
    "f_measure_1 = 2 * precision_1 * recall_1 / (precision_1 + recall_1) if (precision_1 + recall_1) > 0 else 0\n",
    "f_measure_0 = 2 * precision_0 * recall_0 / (precision_0 + recall_0) if (precision_0 + recall_0) > 0 else 0\n",
    "\n",
    "print(\"F: \", f_measure_1, f_measure_0)\n",
    "\n",
    "balanced_accuracy = 1/ 2 * (TP / ((TP+FN) + TN / (TN+FP)))\n",
    "print(\"balanced_accuracy: \", balanced_accuracy)"
   ]
  },
  {
   "cell_type": "code",
   "execution_count": 14,
   "metadata": {},
   "outputs": [
    {
     "data": {
      "text/plain": [
       "-0.12493873660829995"
      ]
     },
     "execution_count": 14,
     "metadata": {},
     "output_type": "execute_result"
    }
   ],
   "source": [
    "# after \n",
    "\n",
    "import math\n",
    "\n",
    "def pmi(classProb, allProb):\n",
    "    return math.log10(classProb / allProb)\n",
    "\n",
    "pmi(1/2, 2/3)\n"
   ]
  },
  {
   "cell_type": "code",
   "execution_count": 15,
   "metadata": {},
   "outputs": [],
   "source": [
    "# tf-idf\n",
    "from sklearn.feature_extraction.text import TfidfVectorizer\n",
    "# print(train_texts)\n",
    "corpus = train_texts\n",
    "\n",
    "vocab_tf = preprocess_texts(corpus)\n",
    "\n",
    "tfidf = TfidfVectorizer(stop_words = 'english', vocabulary=vocab_tf)\n",
    "X = tfidf.fit_transform(corpus)\n",
    "X_dense = X.todense()\n",
    "\n",
    "# print(tfidf.get_feature_names())\n",
    "X_test_transform = tfidf.transform(X_test)\n",
    "X_test_transform_dense = X_test_transform.todense()\n",
    "    \n"
   ]
  },
  {
   "cell_type": "code",
   "execution_count": 16,
   "metadata": {},
   "outputs": [
    {
     "name": "stdout",
     "output_type": "stream",
     "text": [
      "              precision    recall  f1-score   support\n",
      "\n",
      "           0       0.74      0.71      0.73       136\n",
      "           1       0.67      0.70      0.69       114\n",
      "\n",
      "    accuracy                           0.71       250\n",
      "   macro avg       0.71      0.71      0.71       250\n",
      "weighted avg       0.71      0.71      0.71       250\n",
      "\n"
     ]
    }
   ],
   "source": [
    "# LinearRegression\n",
    "from sklearn.linear_model import LogisticRegression\n",
    "import numpy as np\n",
    "\n",
    "temp = []\n",
    "# x = np.array([5, 15, 25, 35, 45, 55]).reshape((-1, 1))\n",
    "# y = np.array([5, 20, 14, 32, 22, 38])\n",
    "\n",
    "# for row in X_train:\n",
    "#     temp.append([row])\n",
    "# arr = np.array(temp)\n",
    "# reg = LinearRegression().fit(x, y)\n",
    "# r_sq = reg.score(x, y)\n",
    "# print('coefficient of determination:', r_sq)\n",
    "\n",
    "clf = LogisticRegression(random_state=0).fit(X_dense, y_train)\n",
    "pred = clf.predict(X_test_transform_dense)\n",
    "print(classification_report(pred, y_test[:amount]))"
   ]
  },
  {
   "cell_type": "code",
   "execution_count": 17,
   "metadata": {},
   "outputs": [
    {
     "name": "stdout",
     "output_type": "stream",
     "text": [
      "              precision    recall  f1-score   support\n",
      "\n",
      "           0       0.64      0.64      0.64       131\n",
      "           1       0.61      0.61      0.61       119\n",
      "\n",
      "    accuracy                           0.62       250\n",
      "   macro avg       0.62      0.62      0.62       250\n",
      "weighted avg       0.62      0.62      0.62       250\n",
      "\n"
     ]
    }
   ],
   "source": [
    "# DecisionTreeClassifier\n",
    "from sklearn.tree import DecisionTreeClassifier\n",
    "\n",
    "dclf = DecisionTreeClassifier(random_state=0)\n",
    "\n",
    "dclf.fit(X_dense, y_train)      # Use fit method on the train data\n",
    "\n",
    "dtc_pred = dclf.predict(X_test_transform_dense)   # Predict the target class of test data\n",
    "print(classification_report(dtc_pred, y_test[:amount])) "
   ]
  },
  {
   "cell_type": "code",
   "execution_count": 18,
   "metadata": {},
   "outputs": [
    {
     "name": "stdout",
     "output_type": "stream",
     "text": [
      "              precision    recall  f1-score   support\n",
      "\n",
      "           0       0.64      0.65      0.65       129\n",
      "           1       0.62      0.61      0.62       121\n",
      "\n",
      "    accuracy                           0.63       250\n",
      "   macro avg       0.63      0.63      0.63       250\n",
      "weighted avg       0.63      0.63      0.63       250\n",
      "\n"
     ]
    }
   ],
   "source": [
    "# KNeighborsClassifier\n",
    "from sklearn.neighbors import KNeighborsClassifier\n",
    "\n",
    "\n",
    "neigh = KNeighborsClassifier(n_neighbors=3)\n",
    "neigh.fit(X_dense, y_train)\n",
    "neigh_pred = neigh.predict(X_test_transform_dense)\n",
    "print(classification_report(neigh_pred, y_test[:amount]))"
   ]
  },
  {
   "cell_type": "code",
   "execution_count": 19,
   "metadata": {},
   "outputs": [
    {
     "name": "stdout",
     "output_type": "stream",
     "text": [
      "              precision    recall  f1-score   support\n",
      "\n",
      "           0       0.64      0.65      0.65       129\n",
      "           1       0.62      0.61      0.62       121\n",
      "\n",
      "    accuracy                           0.63       250\n",
      "   macro avg       0.63      0.63      0.63       250\n",
      "weighted avg       0.63      0.63      0.63       250\n",
      "\n"
     ]
    }
   ],
   "source": [
    "neigh4 = KNeighborsClassifier(n_neighbors=4)\n",
    "neigh4.fit(X_dense, y_train)\n",
    "neigh_pred4 = neigh.predict(X_test_transform_dense)\n",
    "print(classification_report(neigh_pred4, y_test[:amount]))"
   ]
  },
  {
   "cell_type": "code",
   "execution_count": 20,
   "metadata": {},
   "outputs": [
    {
     "name": "stdout",
     "output_type": "stream",
     "text": [
      "n clusters = 2, silhouette score is 0.001082290848147776)\n",
      "n clusters = 3, silhouette score is 0.002111464647337573)\n",
      "n clusters = 4, silhouette score is 0.0013670162761225426)\n",
      "n clusters = 5, silhouette score is 0.0007808571662161179)\n",
      "n clusters = 6, silhouette score is 0.0013833071246397003)\n",
      "n clusters = 7, silhouette score is 0.000584318311731445)\n",
      "n clusters = 8, silhouette score is 0.001582752481063855)\n",
      "n clusters = 9, silhouette score is 0.0011253640559257972)\n"
     ]
    }
   ],
   "source": [
    "# KMeans\n",
    "from sklearn.cluster import KMeans\n",
    "from sklearn.metrics import silhouette_score\n",
    "\n",
    "clusters = range(2,10)\n",
    "\n",
    "for n_clusters in clusters:\n",
    "    clusterer = KMeans(n_clusters=n_clusters)\n",
    "    preds = clusterer.fit_predict(X_dense)\n",
    "    centers = clusterer.cluster_centers_\n",
    "\n",
    "    score = silhouette_score(X_dense, preds)\n",
    "    print(\"n clusters = {}, silhouette score is {})\".format(n_clusters, score))\n"
   ]
  },
  {
   "cell_type": "code",
   "execution_count": 21,
   "metadata": {},
   "outputs": [
    {
     "name": "stdout",
     "output_type": "stream",
     "text": [
      "n clusters = 2, silhouette score is 0.012089099341894212)\n",
      "n clusters = 3, silhouette score is 0.008015915180398023)\n",
      "n clusters = 4, silhouette score is 0.005399846404261093)\n",
      "n clusters = 5, silhouette score is 0.003625392808416664)\n",
      "n clusters = 6, silhouette score is 0.002875469549989265)\n",
      "n clusters = 7, silhouette score is 0.002520163433484808)\n",
      "n clusters = 8, silhouette score is 0.001365765847717215)\n",
      "n clusters = 9, silhouette score is 0.0010971044877066919)\n",
      "n clusters = 10, silhouette score is 0.0009436853901055807)\n",
      "n clusters = 11, silhouette score is 0.0005209377121339101)\n",
      "n clusters = 12, silhouette score is 9.346444603566743e-06)\n",
      "n clusters = 13, silhouette score is -0.0007078377508032418)\n",
      "n clusters = 14, silhouette score is -0.0008103203460560886)\n"
     ]
    }
   ],
   "source": [
    "from sklearn.cluster import AgglomerativeClustering    \n",
    "\n",
    "clusters = range(2,15)\n",
    "\n",
    "for n_clusters in clusters:\n",
    "    clusterer = AgglomerativeClustering(n_clusters=n_clusters, linkage='average')\n",
    "    preds = clusterer.fit_predict(X_dense)\n",
    "\n",
    "    score = silhouette_score(X_dense, preds)\n",
    "    print(\"n clusters = {}, silhouette score is {})\".format(n_clusters, score))\n",
    "\n"
   ]
  },
  {
   "cell_type": "code",
   "execution_count": 22,
   "metadata": {},
   "outputs": [
    {
     "name": "stdout",
     "output_type": "stream",
     "text": [
      "[[ 0.00000000e+00  8.01253341e-04  1.42444805e-03 ...  1.47421436e-03\n",
      "   1.35525272e-20 -2.43945489e-19]\n",
      " [ 0.00000000e+00 -3.25260652e-19  1.17373139e-03 ... -8.67361738e-19\n",
      "   1.68241264e-04  2.35084258e-04]]\n",
      "11520\n"
     ]
    }
   ],
   "source": [
    "max_clusterer = KMeans(n_clusters=2)\n",
    "max_preds = max_clusterer.fit_predict(X_dense)\n",
    "max_centers = max_clusterer.cluster_centers_\n",
    "print(max_centers)\n",
    "print(len(max_centers[0]))"
   ]
  },
  {
   "cell_type": "code",
   "execution_count": 23,
   "metadata": {},
   "outputs": [
    {
     "name": "stdout",
     "output_type": "stream",
     "text": [
      "[143 170]\n"
     ]
    }
   ],
   "source": [
    "from sklearn.metrics import pairwise_distances_argmin_min\n",
    "closest, _ = pairwise_distances_argmin_min(max_centers, X_dense)\n",
    "print(closest)"
   ]
  },
  {
   "cell_type": "code",
   "execution_count": null,
   "metadata": {},
   "outputs": [],
   "source": []
  },
  {
   "cell_type": "code",
   "execution_count": 24,
   "metadata": {},
   "outputs": [],
   "source": [
    "# vocab_tf contains vocab\n",
    "# max_preds pred\n",
    "# corpus - texts \n",
    "clean_texts = []\n",
    "for text_idx in range(len(corpus)):\n",
    "    clean_texts.append({'words': preprocess_text(corpus[text_idx]), 'ans': max_preds[text_idx]})"
   ]
  },
  {
   "cell_type": "code",
   "execution_count": 25,
   "metadata": {},
   "outputs": [
    {
     "name": "stdout",
     "output_type": "stream",
     "text": [
      "473 277 750\n"
     ]
    }
   ],
   "source": [
    "pos_amount = sum(max_preds)\n",
    "neg_amount = len(max_preds) - pos_amount\n",
    "print(pos_amount, neg_amount, len(max_preds))\n",
    "vocab_tf_list = list(vocab_tf)\n",
    "vocab_tf_list_range = range(len(vocab_tf_list))\n",
    "pos_amount_words = [0 for i in vocab_tf_list_range]\n",
    "neg_amount_words = [0 for i in vocab_tf_list_range]\n",
    "all_amount_words = [0 for i in vocab_tf_list_range]\n",
    "for vocab_word_idx in vocab_tf_list_range:\n",
    "    for text in clean_texts:\n",
    "        if(vocab_tf_list[vocab_word_idx] in text['words']):\n",
    "            all_amount_words[vocab_word_idx] += 1\n",
    "            if text['ans'] == 1:\n",
    "                pos_amount_words[vocab_word_idx] += 1\n",
    "            else: \n",
    "                neg_amount_words[vocab_word_idx] += 1"
   ]
  },
  {
   "cell_type": "code",
   "execution_count": 26,
   "metadata": {},
   "outputs": [],
   "source": [
    "neg_pmi = []\n",
    "pos_pmi = []\n",
    "for idx in vocab_tf_list_range:\n",
    "    pos_pmi_calc = pmiCalc(pos_amount_words[idx], all_amount_words[idx])\n",
    "    if pos_pmi_calc != 0:\n",
    "        pos_pmi.append({'idx': idx, 'pmi': pos_pmi_calc})  \n",
    "    \n",
    "    neg_pmi_calc = pmiCalc(neg_amount_words[idx], all_amount_words[idx])\n",
    "    if neg_pmi_calc != 0:\n",
    "        neg_pmi.append({'idx': idx, 'pmi': neg_pmi_calc})  \n",
    "            "
   ]
  },
  {
   "cell_type": "code",
   "execution_count": 27,
   "metadata": {},
   "outputs": [
    {
     "name": "stdout",
     "output_type": "stream",
     "text": [
      "Top 10 positive words\n",
      "u\n",
      "pair\n",
      "hill\n",
      "accid\n",
      "fellow\n",
      "correct\n",
      "thrown\n",
      "camp\n",
      "gari\n",
      "disgust\n",
      "------------\n",
      "Top 10 nagetive words\n",
      "epic\n",
      "credibl\n",
      "elev\n",
      "frankli\n",
      "admittedli\n",
      "desert\n",
      "detract\n",
      "ingeni\n",
      "lumet\n",
      "sincer\n"
     ]
    }
   ],
   "source": [
    "sorted_pos_pmi = sorted(pos_pmi, key = lambda x : x['pmi'], reverse = True)\n",
    "sorted_neg_pmi = sorted(neg_pmi, key = lambda x : x['pmi'], reverse = True)\n",
    "\n",
    "top_amount = 10\n",
    "print(f'Top {top_amount} positive words')\n",
    "for word in range(top_amount):\n",
    "    print(vocab_tf_list[sorted_pos_pmi[word]['idx']])\n",
    "print('------------')\n",
    "print(f'Top {top_amount} nagetive words')\n",
    "for word in range(top_amount):\n",
    "    print(vocab_tf_list[sorted_neg_pmi[word]['idx']])\n",
    "    "
   ]
  },
  {
   "cell_type": "code",
   "execution_count": 28,
   "metadata": {},
   "outputs": [
    {
     "name": "stdout",
     "output_type": "stream",
     "text": [
      "              precision    recall  f1-score   support\n",
      "\n",
      "           0       0.74      0.71      0.73       136\n",
      "           1       0.67      0.70      0.69       114\n",
      "\n",
      "    accuracy                           0.71       250\n",
      "   macro avg       0.71      0.71      0.71       250\n",
      "weighted avg       0.71      0.71      0.71       250\n",
      "\n",
      "n clusters = 100, aaccuracy = 0.52\n",
      "n clusters = 110, aaccuracy = 0.516\n",
      "n clusters = 120, aaccuracy = 0.568\n",
      "n clusters = 130, aaccuracy = 0.528\n",
      "n clusters = 140, aaccuracy = 0.532\n",
      "n clusters = 150, aaccuracy = 0.544\n",
      "n clusters = 160, aaccuracy = 0.564\n",
      "n clusters = 170, aaccuracy = 0.564\n",
      "n clusters = 180, aaccuracy = 0.54\n",
      "n clusters = 190, aaccuracy = 0.52\n",
      "n clusters = 200, aaccuracy = 0.548\n",
      "n clusters = 210, aaccuracy = 0.512\n",
      "n clusters = 220, aaccuracy = 0.552\n",
      "n clusters = 230, aaccuracy = 0.536\n",
      "n clusters = 240, aaccuracy = 0.552\n"
     ]
    }
   ],
   "source": [
    "from sklearn.decomposition import PCA\n",
    "from sklearn.linear_model import LogisticRegression\n",
    "import numpy as np\n",
    "\n",
    "n = range(100, 250, 10)\n",
    "\n",
    "temp = []\n",
    "\n",
    "clf = LogisticRegression(random_state=0).fit(X_dense, y_train)\n",
    "pred = clf.predict(X_test_transform_dense)\n",
    "print(classification_report(pred, y_test[:amount]))\n",
    "\n",
    "for n_components in n:\n",
    "    pca = PCA(n_components=n_components)\n",
    "    pca.fit(X_dense)\n",
    "    ans = pca.transform(X_dense)\n",
    "    \n",
    "    pca.fit(X_test_transform_dense)\n",
    "    ans_test = pca.transform(X_test_transform_dense)\n",
    "    \n",
    "    \n",
    "    clf = LogisticRegression(random_state=0).fit(ans, y_train)\n",
    "    pred = clf.predict(ans_test)\n",
    "    report = classification_report(pred, y_test[:amount], output_dict=True)\n",
    "\n",
    "    print(f'n clusters = {n_components}, aaccuracy = {report[\"accuracy\"]}')"
   ]
  },
  {
   "cell_type": "code",
   "execution_count": 29,
   "metadata": {},
   "outputs": [],
   "source": [
    "\n",
    "import gensim\n",
    "from bs4 import BeautifulSoup\n",
    "import re, string\n",
    "clean = [ ]\n",
    "\n",
    "for doc in texts:\n",
    "    x = doc.lower()                     \n",
    "    x = BeautifulSoup(x, 'lxml').text   \n",
    "    x = re.sub('[^A-Za-z0-9]+', ' ', x)\n",
    "    x = x.split(' ')\n",
    "    clean.append(x)"
   ]
  },
  {
   "cell_type": "code",
   "execution_count": 30,
   "metadata": {},
   "outputs": [
    {
     "name": "stdout",
     "output_type": "stream",
     "text": [
      "['with', 'all', 'this', 'stuff', 'going', 'down', 'at', 'the', 'moment', 'with', 'mj', 'i', 've', 'started', 'listening', 'to', 'his', 'music', 'watching', 'the', 'odd', 'documentary', 'here', 'and', 'there', 'watched', 'the', 'wiz', 'and', 'watched', 'moonwalker', 'again', 'maybe', 'i', 'just', 'want', 'to', 'get', 'a', 'certain', 'insight', 'into', 'this', 'guy', 'who', 'i', 'thought', 'was', 'really', 'cool', 'in', 'the', 'eighties', 'just', 'to', 'maybe', 'make', 'up', 'my', 'mind', 'whether', 'he', 'is', 'guilty', 'or', 'innocent', 'moonwalker', 'is', 'part', 'biography', 'part', 'feature', 'film', 'which', 'i', 'remember', 'going', 'to', 'see', 'at', 'the', 'cinema', 'when', 'it', 'was', 'originally', 'released', 'some', 'of', 'it', 'has', 'subtle', 'messages', 'about', 'mj', 's', 'feeling', 'towards', 'the', 'press', 'and', 'also', 'the', 'obvious', 'message', 'of', 'drugs', 'are', 'bad', 'm', 'kay', 'visually', 'impressive', 'but', 'of', 'course', 'this', 'is', 'all', 'about', 'michael', 'jackson', 'so', 'unless', 'you', 'remotely', 'like', 'mj', 'in', 'anyway', 'then', 'you', 'are', 'going', 'to', 'hate', 'this', 'and', 'find', 'it', 'boring', 'some', 'may', 'call', 'mj', 'an', 'egotist', 'for', 'consenting', 'to', 'the', 'making', 'of', 'this', 'movie', 'but', 'mj', 'and', 'most', 'of', 'his', 'fans', 'would', 'say', 'that', 'he', 'made', 'it', 'for', 'the', 'fans', 'which', 'if', 'true', 'is', 'really', 'nice', 'of', 'him', 'the', 'actual', 'feature', 'film', 'bit', 'when', 'it', 'finally', 'starts', 'is', 'only', 'on', 'for', '20', 'minutes', 'or', 'so', 'excluding', 'the', 'smooth', 'criminal', 'sequence', 'and', 'joe', 'pesci', 'is', 'convincing', 'as', 'a', 'psychopathic', 'all', 'powerful', 'drug', 'lord', 'why', 'he', 'wants', 'mj', 'dead', 'so', 'bad', 'is', 'beyond', 'me', 'because', 'mj', 'overheard', 'his', 'plans', 'nah', 'joe', 'pesci', 's', 'character', 'ranted', 'that', 'he', 'wanted', 'people', 'to', 'know', 'it', 'is', 'he', 'who', 'is', 'supplying', 'drugs', 'etc', 'so', 'i', 'dunno', 'maybe', 'he', 'just', 'hates', 'mj', 's', 'music', 'lots', 'of', 'cool', 'things', 'in', 'this', 'like', 'mj', 'turning', 'into', 'a', 'car', 'and', 'a', 'robot', 'and', 'the', 'whole', 'speed', 'demon', 'sequence', 'also', 'the', 'director', 'must', 'have', 'had', 'the', 'patience', 'of', 'a', 'saint', 'when', 'it', 'came', 'to', 'filming', 'the', 'kiddy', 'bad', 'sequence', 'as', 'usually', 'directors', 'hate', 'working', 'with', 'one', 'kid', 'let', 'alone', 'a', 'whole', 'bunch', 'of', 'them', 'performing', 'a', 'complex', 'dance', 'scene', 'bottom', 'line', 'this', 'movie', 'is', 'for', 'people', 'who', 'like', 'mj', 'on', 'one', 'level', 'or', 'another', 'which', 'i', 'think', 'is', 'most', 'people', 'if', 'not', 'then', 'stay', 'away', 'it', 'does', 'try', 'and', 'give', 'off', 'a', 'wholesome', 'message', 'and', 'ironically', 'mj', 's', 'bestest', 'buddy', 'in', 'this', 'movie', 'is', 'a', 'girl', 'michael', 'jackson', 'is', 'truly', 'one', 'of', 'the', 'most', 'talented', 'people', 'ever', 'to', 'grace', 'this', 'planet', 'but', 'is', 'he', 'guilty', 'well', 'with', 'all', 'the', 'attention', 'i', 've', 'gave', 'this', 'subject', 'hmmm', 'well', 'i', 'don', 't', 'know', 'because', 'people', 'can', 'be', 'different', 'behind', 'closed', 'doors', 'i', 'know', 'this', 'for', 'a', 'fact', 'he', 'is', 'either', 'an', 'extremely', 'nice', 'but', 'stupid', 'guy', 'or', 'one', 'of', 'the', 'most', 'sickest', 'liars', 'i', 'hope', 'he', 'is', 'not', 'the', 'latter', '']\n"
     ]
    }
   ],
   "source": [
    "print(clean[0])"
   ]
  },
  {
   "cell_type": "code",
   "execution_count": 31,
   "metadata": {},
   "outputs": [],
   "source": [
    "model = gensim.models.Word2Vec(sentences=clean, vector_size=200, window=10, min_count=10, negative=15)"
   ]
  },
  {
   "cell_type": "code",
   "execution_count": 32,
   "metadata": {
    "scrolled": true
   },
   "outputs": [
    {
     "name": "stdout",
     "output_type": "stream",
     "text": [
      "market [('usa', 0.6520488858222961), ('studios', 0.6254586577415466), ('cinemas', 0.6106382012367249), ('national', 0.5976017117500305), ('access', 0.5929945111274719), ('europe', 0.5917080044746399), ('uk', 0.588087260723114), ('distributor', 0.5803756713867188), ('theaters', 0.5784987211227417), ('stations', 0.5773553252220154)]\n",
      "\n",
      "street [('elm', 0.7049148082733154), ('beach', 0.7016922235488892), ('bus', 0.684274435043335), ('streets', 0.6769227385520935), ('park', 0.675114095211029), ('bike', 0.6698469519615173), ('nightmare', 0.6573826670646667), ('roof', 0.6552714705467224), ('pickup', 0.6508170962333679), ('bench', 0.6490457653999329)]\n",
      "\n",
      "game [('games', 0.6782853603363037), ('football', 0.5202775597572327), ('clip', 0.45584455132484436), ('basketball', 0.42370274662971497), ('store', 0.42357170581817627), ('baseball', 0.4216800928115845), ('stores', 0.4211229383945465), ('player', 0.4094279110431671), ('video', 0.4052484333515167), ('missions', 0.4023422300815582)]\n",
      "\n",
      "lesson [('statement', 0.555026113986969), ('religion', 0.5375118851661682), ('humanity', 0.5159745216369629), ('learning', 0.5146971940994263), ('global', 0.506994903087616), ('message', 0.5057975053787231), ('faith', 0.5024289488792419), ('society', 0.4948996901512146), ('truth', 0.49258071184158325), ('miracle', 0.4843403398990631)]\n",
      "\n"
     ]
    }
   ],
   "source": [
    "market = model.wv.most_similar('market')\n",
    "print(\"market\", market)\n",
    "print()\n",
    "\n",
    "street = model.wv.most_similar('street')\n",
    "print(\"street\", street)\n",
    "print()\n",
    "\n",
    "game = model.wv.most_similar('game')\n",
    "print(\"game\", game)\n",
    "print()\n",
    "\n",
    "lesson = model.wv.most_similar('lesson')\n",
    "print(\"lesson\", lesson)\n",
    "print()\n"
   ]
  },
  {
   "cell_type": "code",
   "execution_count": 33,
   "metadata": {},
   "outputs": [
    {
     "name": "stdout",
     "output_type": "stream",
     "text": [
      "[[0. 0. 0. ... 0. 0. 0.]\n",
      " [0. 0. 0. ... 0. 0. 0.]\n",
      " [0. 0. 0. ... 0. 0. 0.]\n",
      " ...\n",
      " [0. 0. 0. ... 0. 0. 0.]\n",
      " [0. 0. 0. ... 0. 0. 0.]\n",
      " [0. 0. 0. ... 0. 0. 0.]]\n",
      "[[0.         1.33241903 1.33377324]\n",
      " [0.         1.25177617 1.27739943]\n",
      " [0.         1.24333221 1.27485093]\n",
      " [0.         1.27514949 1.28733204]\n",
      " [0.         1.29498475 1.30467611]\n",
      " [0.         1.29417285 1.31284273]\n",
      " [0.         1.2835654  1.30435275]\n",
      " [0.         1.28982187 1.33307602]\n",
      " [0.         1.29705226 1.30535572]\n",
      " [0.         1.3070475  1.31370258]]\n",
      "[[  0 729  74]\n",
      " [  1 746  23]\n",
      " [  2 648 665]\n",
      " [  3 660 563]\n",
      " [  4 174 478]\n",
      " [  5 180 583]\n",
      " [  6 387  23]\n",
      " [  7 464 301]\n",
      " [  8 593 549]\n",
      " [  9 353 593]]\n"
     ]
    }
   ],
   "source": [
    "from sklearn.neighbors import KDTree\n",
    "\n",
    "# pca = PCA(n_components=100)\n",
    "# pca.fit(X_dense)\n",
    "# ans = pca.transform(X_dense)\n",
    "print(X_dense[:10])\n",
    "tree = KDTree(X_dense)\n",
    "dist, ind = tree.query(X_dense[:10], k=3) \n",
    "print(dist)\n",
    "print(ind)\n",
    "    \n",
    "    "
   ]
  },
  {
   "cell_type": "code",
   "execution_count": 34,
   "metadata": {},
   "outputs": [],
   "source": [
    "def preprocessing(corpus):\n",
    "    # initialize\n",
    "    clean_text = []\n",
    "\n",
    "    for row in corpus:\n",
    "        # tokenize\n",
    "        tokens = nltk.tokenize.word_tokenize(row)\n",
    "        # lowercase\n",
    "        tokens = [token.lower() for token in tokens]\n",
    "        # isword\n",
    "        tokens = [token for token in tokens if token.isalpha()]\n",
    "        clean_sentence = ''\n",
    "        clean_sentence = ' '.join(token for token in tokens)\n",
    "        clean_text.append(clean_sentence)\n",
    "        \n",
    "    return clean_text\n",
    "    \n",
    "all_text = preprocessing(texts)"
   ]
  },
  {
   "cell_type": "code",
   "execution_count": 35,
   "metadata": {},
   "outputs": [],
   "source": [
    "from sklearn.feature_extraction.text import CountVectorizer\n",
    "# Convert a collection of text documents to a matrix of token counts\n",
    "cv = CountVectorizer(ngram_range=(1,1), stop_words = 'english')\n",
    "# matrix of token counts\n",
    "X = cv.fit_transform(all_text)\n",
    "Xc = (X.T * X) # matrix manipulation\n",
    "Xc.setdiag(0) # set the diagonals to be zeroes as it's pointless to be 1"
   ]
  },
  {
   "cell_type": "code",
   "execution_count": 47,
   "metadata": {},
   "outputs": [
    {
     "name": "stdout",
     "output_type": "stream",
     "text": [
      "37953\n"
     ]
    }
   ],
   "source": [
    "names = cv.get_feature_names()\n",
    "print(names.index('market'))"
   ]
  },
  {
   "cell_type": "code",
   "execution_count": 57,
   "metadata": {},
   "outputs": [
    {
     "ename": "TypeError",
     "evalue": "PCA does not support sparse input. See TruncatedSVD for a possible alternative.",
     "output_type": "error",
     "traceback": [
      "\u001b[1;31m---------------------------------------------------------------------------\u001b[0m",
      "\u001b[1;31mTypeError\u001b[0m                                 Traceback (most recent call last)",
      "\u001b[1;32m<ipython-input-57-54ebd7636e07>\u001b[0m in \u001b[0;36m<module>\u001b[1;34m\u001b[0m\n\u001b[0;32m      3\u001b[0m \u001b[0mXpca\u001b[0m \u001b[1;33m=\u001b[0m \u001b[0mclf\u001b[0m\u001b[1;33m.\u001b[0m\u001b[0mfit_transform\u001b[0m\u001b[1;33m(\u001b[0m\u001b[0mXc\u001b[0m\u001b[1;33m)\u001b[0m\u001b[1;33m\u001b[0m\u001b[1;33m\u001b[0m\u001b[0m\n\u001b[0;32m      4\u001b[0m \u001b[0mpca\u001b[0m \u001b[1;33m=\u001b[0m \u001b[0mPCA\u001b[0m\u001b[1;33m(\u001b[0m\u001b[0mn_components\u001b[0m\u001b[1;33m=\u001b[0m\u001b[1;36m100\u001b[0m\u001b[1;33m)\u001b[0m\u001b[1;33m\u001b[0m\u001b[1;33m\u001b[0m\u001b[0m\n\u001b[1;32m----> 5\u001b[1;33m \u001b[0mpca\u001b[0m\u001b[1;33m.\u001b[0m\u001b[0mfit\u001b[0m\u001b[1;33m(\u001b[0m\u001b[0mXc\u001b[0m\u001b[1;33m)\u001b[0m\u001b[1;33m\u001b[0m\u001b[1;33m\u001b[0m\u001b[0m\n\u001b[0m\u001b[0;32m      6\u001b[0m \u001b[0mans\u001b[0m \u001b[1;33m=\u001b[0m \u001b[0mpca\u001b[0m\u001b[1;33m.\u001b[0m\u001b[0mtransform\u001b[0m\u001b[1;33m(\u001b[0m\u001b[0mXpca\u001b[0m\u001b[1;33m)\u001b[0m\u001b[1;33m\u001b[0m\u001b[1;33m\u001b[0m\u001b[0m\n",
      "\u001b[1;32mc:\\users\\ramil\\appdata\\local\\programs\\python\\python37\\lib\\site-packages\\sklearn\\decomposition\\_pca.py\u001b[0m in \u001b[0;36mfit\u001b[1;34m(self, X, y)\u001b[0m\n\u001b[0;32m    350\u001b[0m             \u001b[0mReturns\u001b[0m \u001b[0mthe\u001b[0m \u001b[0minstance\u001b[0m \u001b[0mitself\u001b[0m\u001b[1;33m.\u001b[0m\u001b[1;33m\u001b[0m\u001b[1;33m\u001b[0m\u001b[0m\n\u001b[0;32m    351\u001b[0m         \"\"\"\n\u001b[1;32m--> 352\u001b[1;33m         \u001b[0mself\u001b[0m\u001b[1;33m.\u001b[0m\u001b[0m_fit\u001b[0m\u001b[1;33m(\u001b[0m\u001b[0mX\u001b[0m\u001b[1;33m)\u001b[0m\u001b[1;33m\u001b[0m\u001b[1;33m\u001b[0m\u001b[0m\n\u001b[0m\u001b[0;32m    353\u001b[0m         \u001b[1;32mreturn\u001b[0m \u001b[0mself\u001b[0m\u001b[1;33m\u001b[0m\u001b[1;33m\u001b[0m\u001b[0m\n\u001b[0;32m    354\u001b[0m \u001b[1;33m\u001b[0m\u001b[0m\n",
      "\u001b[1;32mc:\\users\\ramil\\appdata\\local\\programs\\python\\python37\\lib\\site-packages\\sklearn\\decomposition\\_pca.py\u001b[0m in \u001b[0;36m_fit\u001b[1;34m(self, X)\u001b[0m\n\u001b[0;32m    392\u001b[0m         \u001b[1;31m# This is more informative than the generic one raised by check_array.\u001b[0m\u001b[1;33m\u001b[0m\u001b[1;33m\u001b[0m\u001b[1;33m\u001b[0m\u001b[0m\n\u001b[0;32m    393\u001b[0m         \u001b[1;32mif\u001b[0m \u001b[0missparse\u001b[0m\u001b[1;33m(\u001b[0m\u001b[0mX\u001b[0m\u001b[1;33m)\u001b[0m\u001b[1;33m:\u001b[0m\u001b[1;33m\u001b[0m\u001b[1;33m\u001b[0m\u001b[0m\n\u001b[1;32m--> 394\u001b[1;33m             raise TypeError('PCA does not support sparse input. See '\n\u001b[0m\u001b[0;32m    395\u001b[0m                             'TruncatedSVD for a possible alternative.')\n\u001b[0;32m    396\u001b[0m \u001b[1;33m\u001b[0m\u001b[0m\n",
      "\u001b[1;31mTypeError\u001b[0m: PCA does not support sparse input. See TruncatedSVD for a possible alternative."
     ]
    }
   ],
   "source": [
    "from sklearn.decomposition import TruncatedSVD\n",
    "clf = TruncatedSVD(100)\n",
    "Xpca = clf.fit_transform(Xc)\n",
    "pca = PCA(n_components=100)\n",
    "pca.fit(Xc)\n",
    "ans = pca.transform(Xpca)"
   ]
  },
  {
   "cell_type": "code",
   "execution_count": 45,
   "metadata": {},
   "outputs": [
    {
     "name": "stdout",
     "output_type": "stream",
     "text": [
      "100\n"
     ]
    }
   ],
   "source": [
    "print(len(ans[0]))"
   ]
  },
  {
   "cell_type": "code",
   "execution_count": 51,
   "metadata": {},
   "outputs": [],
   "source": [
    "tree = KDTree(ans)"
   ]
  },
  {
   "cell_type": "code",
   "execution_count": 52,
   "metadata": {},
   "outputs": [
    {
     "name": "stdout",
     "output_type": "stream",
     "text": [
      "[[37953 46630 67941 48588 51353]]\n",
      "market\n",
      "placed\n",
      "welcome\n",
      "provided\n",
      "reputation\n"
     ]
    }
   ],
   "source": [
    "market = names.index('market')\n",
    "dist, ind = tree.query([ans[market]], k=5) \n",
    "print(ind)\n",
    "for i in ind:\n",
    "    for j in i:\n",
    "        print(names[j])"
   ]
  },
  {
   "cell_type": "code",
   "execution_count": 53,
   "metadata": {},
   "outputs": [
    {
     "name": "stdout",
     "output_type": "stream",
     "text": [
      "[[59429  8267 18064 51947 23115]]\n",
      "street\n",
      "business\n",
      "dream\n",
      "rich\n",
      "following\n"
     ]
    }
   ],
   "source": [
    "street = names.index('street')\n",
    "dist, ind = tree.query([ans[street]], k=5) \n",
    "print(ind)\n",
    "for i in ind:\n",
    "    for j in i:\n",
    "        print(names[j])"
   ]
  },
  {
   "cell_type": "code",
   "execution_count": 54,
   "metadata": {},
   "outputs": [
    {
     "name": "stdout",
     "output_type": "stream",
     "text": [
      "[[24365 22279 27170 52991 68735]]\n",
      "game\n",
      "fight\n",
      "hand\n",
      "run\n",
      "wo\n"
     ]
    }
   ],
   "source": [
    "game = names.index('game')\n",
    "dist, ind = tree.query([ans[game]], k=5) \n",
    "print(ind)\n",
    "for i in ind:\n",
    "    for j in i:\n",
    "        print(names[j])"
   ]
  },
  {
   "cell_type": "code",
   "execution_count": 55,
   "metadata": {},
   "outputs": [
    {
     "name": "stdout",
     "output_type": "stream",
     "text": [
      "[[35526 29019 60507 45126 22571]]\n",
      "lesson\n",
      "hopes\n",
      "survive\n",
      "passed\n",
      "fits\n"
     ]
    }
   ],
   "source": [
    "lesson = names.index('lesson')\n",
    "dist, ind = tree.query([ans[lesson]], k=5) \n",
    "print(ind)\n",
    "for i in ind:\n",
    "    for j in i:\n",
    "        print(names[j])"
   ]
  },
  {
   "cell_type": "code",
   "execution_count": null,
   "metadata": {},
   "outputs": [],
   "source": []
  }
 ],
 "metadata": {
  "kernelspec": {
   "display_name": "Python 3",
   "language": "python",
   "name": "python3"
  },
  "language_info": {
   "codemirror_mode": {
    "name": "ipython",
    "version": 3
   },
   "file_extension": ".py",
   "mimetype": "text/x-python",
   "name": "python",
   "nbconvert_exporter": "python",
   "pygments_lexer": "ipython3",
   "version": "3.7.3"
  }
 },
 "nbformat": 4,
 "nbformat_minor": 5
}
