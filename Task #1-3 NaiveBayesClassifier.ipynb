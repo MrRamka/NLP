{
 "cells": [
  {
   "cell_type": "code",
   "execution_count": 1,
   "metadata": {},
   "outputs": [
    {
     "name": "stderr",
     "output_type": "stream",
     "text": [
      "[nltk_data] Downloading package punkt to\n",
      "[nltk_data]     C:\\Users\\ramil\\AppData\\Roaming\\nltk_data...\n",
      "[nltk_data]   Package punkt is already up-to-date!\n",
      "[nltk_data] Downloading package stopwords to\n",
      "[nltk_data]     C:\\Users\\ramil\\AppData\\Roaming\\nltk_data...\n",
      "[nltk_data]   Package stopwords is already up-to-date!\n"
     ]
    },
    {
     "data": {
      "text/plain": [
       "True"
      ]
     },
     "execution_count": 1,
     "metadata": {},
     "output_type": "execute_result"
    }
   ],
   "source": [
    "import nltk\n",
    "nltk.download('punkt')\n",
    "nltk.download('stopwords')"
   ]
  },
  {
   "cell_type": "code",
   "execution_count": 2,
   "metadata": {},
   "outputs": [],
   "source": [
    "from nltk.stem import PorterStemmer\n",
    "import pandas as pd\n",
    "from sklearn.model_selection import train_test_split\n",
    "from sklearn.metrics import classification_report"
   ]
  },
  {
   "cell_type": "code",
   "execution_count": 3,
   "metadata": {},
   "outputs": [],
   "source": [
    "# load data\n",
    "df = pd.read_csv('labeledTrainData.tsv', sep='\\t', encoding='utf-8')"
   ]
  },
  {
   "cell_type": "code",
   "execution_count": 4,
   "metadata": {},
   "outputs": [
    {
     "data": {
      "text/plain": [
       "{'id': '5814_8',\n",
       " 'sentiment': 1,\n",
       " 'review': \"With all this stuff going down at the moment with MJ i've started listening to his music, watching the odd documentary here and there, watched The Wiz and watched Moonwalker again. Maybe i just want to get a certain insight into this guy who i thought was really cool in the eighties just to maybe make up my mind whether he is guilty or innocent. Moonwalker is part biography, part feature film which i remember going to see at the cinema when it was originally released. Some of it has subtle messages about MJ's feeling towards the press and also the obvious message of drugs are bad m'kay.<br /><br />Visually impressive but of course this is all about Michael Jackson so unless you remotely like MJ in anyway then you are going to hate this and find it boring. Some may call MJ an egotist for consenting to the making of this movie BUT MJ and most of his fans would say that he made it for the fans which if true is really nice of him.<br /><br />The actual feature film bit when it finally starts is only on for 20 minutes or so excluding the Smooth Criminal sequence and Joe Pesci is convincing as a psychopathic all powerful drug lord. Why he wants MJ dead so bad is beyond me. Because MJ overheard his plans? Nah, Joe Pesci's character ranted that he wanted people to know it is he who is supplying drugs etc so i dunno, maybe he just hates MJ's music.<br /><br />Lots of cool things in this like MJ turning into a car and a robot and the whole Speed Demon sequence. Also, the director must have had the patience of a saint when it came to filming the kiddy Bad sequence as usually directors hate working with one kid let alone a whole bunch of them performing a complex dance scene.<br /><br />Bottom line, this movie is for people who like MJ on one level or another (which i think is most people). If not, then stay away. It does try and give off a wholesome message and ironically MJ's bestest buddy in this movie is a girl! Michael Jackson is truly one of the most talented people ever to grace this planet but is he guilty? Well, with all the attention i've gave this subject....hmmm well i don't know because people can be different behind closed doors, i know this for a fact. He is either an extremely nice but stupid guy or one of the most sickest liars. I hope he is not the latter.\"}"
      ]
     },
     "execution_count": 4,
     "metadata": {},
     "output_type": "execute_result"
    }
   ],
   "source": [
    "df.to_dict('records')[0]"
   ]
  },
  {
   "cell_type": "code",
   "execution_count": 5,
   "metadata": {},
   "outputs": [],
   "source": [
    "texts = df.review.tolist()\n",
    "sentiment = df.sentiment.tolist()"
   ]
  },
  {
   "cell_type": "code",
   "execution_count": 6,
   "metadata": {},
   "outputs": [],
   "source": [
    "import re\n",
    "from nltk.corpus import stopwords\n",
    "from nltk.tokenize import RegexpTokenizer\n",
    "import math\n",
    "\n",
    "def pmiCalc(classProb, allProb):\n",
    "    if classProb == 0 or allProb == 0: \n",
    "        return 0\n",
    "    return math.log10(classProb / allProb)\n",
    "\n",
    "cleanr = re.compile('<.*?>|&([a-z0-9]+|#[0-9]{1,6}|#x[0-9a-f]{1,6});')\n",
    "\n",
    "def cleanhtml(text):\n",
    "    cleanr = re.compile('<.*?>')\n",
    "    cleantext = re.sub(cleanr, '', text)\n",
    "    return cleantext\n",
    "\n",
    "def word_tokenize(text):\n",
    "    tokenizer = RegexpTokenizer(r'\\w+')\n",
    "    clean = tokenizer.tokenize(text)\n",
    "    return clean\n",
    "   \n",
    "def stop_words(tokenize_words):\n",
    "    stopWords = set(stopwords.words('english'))\n",
    "    wordsFiltered = []\n",
    "    for w in tokenize_words:\n",
    "        if w not in stopWords:\n",
    "            wordsFiltered.append(w.lower())\n",
    "    return wordsFiltered\n",
    "\n",
    "\n",
    "def preprocess_text(text):\n",
    "    #clean html \n",
    "    clean = cleanhtml(text)\n",
    "    \n",
    "    # tokenize and remove punctuation \n",
    "    tokenize = word_tokenize(clean)\n",
    "    \n",
    "    # stop words and lower\n",
    "    stop = stop_words(tokenize)\n",
    "    \n",
    "    return stop\n",
    "\n",
    "\n",
    "def space_tokenize(text):\n",
    "    # a_b_c -> ['a', 'b', 'c']\n",
    "    split_array = text.split(' ');\n",
    "    return split_array\n",
    "    \n",
    "    \n",
    "def get_vocab(texts, rare = False, percent = 10):\n",
    "    # unique words\n",
    "    all_word_dict = {}\n",
    "    \n",
    "    all_words_set = set()\n",
    "    for text in texts: \n",
    "#       all_words = space_tokenize(text)\n",
    "        \n",
    "        all_words = preprocess_text(text)\n",
    "        for word in all_words: \n",
    "            wd = all_word_dict.get(word)\n",
    "            if wd == None:\n",
    "                all_word_dict.update([(word, 1)])\n",
    "            else:\n",
    "                all_word_dict.update([(word, wd+1)])\n",
    "                \n",
    "        words_set = all_words_set.update(all_words)\n",
    "    all_sorted = {k: v for k, v in sorted(all_word_dict.items(), key=lambda item: item[1])}\n",
    "    \n",
    "    words_amount = len(all_sorted)\n",
    "    delta_word_amount = round(words_amount / percent)\n",
    "    \n",
    "    \n",
    "    words = []\n",
    "    for k, v in all_sorted.items():\n",
    "        words.append([k, v])\n",
    "      \n",
    "    print(\"all: \", len(words), \"persent: \", percent)\n",
    "#     remove rare and popular \n",
    "    without_rare_and_popular = words[delta_word_amount: len(words) - delta_word_amount]\n",
    "    print(\"without_rare_and_popular\", len(without_rare_and_popular))\n",
    "\n",
    "    return dict(without_rare_and_popular)\n",
    "\n",
    "\n",
    "\n",
    "\n",
    "\n",
    "\n",
    "class BOWencoder:\n",
    "    def __init__(self, vocab=None, tokenize=preprocess_text):\n",
    "        self.vocab = vocab\n",
    "        self.vocab2idx = self.get_vocab2idx(vocab)\n",
    "        self.tokenize = tokenize\n",
    "        \n",
    "    def encode_single_text(self, text):\n",
    "        \"\"\"\n",
    "            text -> vector\n",
    "        \"\"\"\n",
    "#         words = space_tokenize(text)\n",
    "        words = self.tokenize(text)\n",
    "        vector = [0 for i in range(len(self.vocab))]\n",
    "        \n",
    "        for text_word in words:\n",
    "            if self.vocab2idx.get(text_word) != None:\n",
    "                vector[self.vocab2idx.get(text_word)] = 1   \n",
    "        return vector\n",
    "\n",
    "        \n",
    "    def encode_texts(self, texts):\n",
    "        \"\"\"\n",
    "            multiple text\n",
    "        \"\"\"\n",
    "        vector_text_data = []\n",
    "        for text in texts:\n",
    "            vector_text_data.append(self.encode_single_text(text))\n",
    "        return vector_text_data\n",
    "        \n",
    "    def get_vocab2idx(self, vocab):\n",
    "        \"\"\" \n",
    "           id -> word dict\n",
    "        \"\"\"\n",
    "        dictV = {word: idx for idx, word in zip(range(len(vocab)), vocab)}\n",
    "        return dictV"
   ]
  },
  {
   "cell_type": "code",
   "execution_count": 12,
   "metadata": {},
   "outputs": [],
   "source": [
    "class NaiveBayesClassifier:\n",
    "    def __init__(self, n_classes):\n",
    "        self.n_classes = n_classes\n",
    "        self.class_probs = {}\n",
    "        self.conditional_probabilities = {}\n",
    "        self.pmi = {}\n",
    "        self.idf = []\n",
    "\n",
    "    def fit(self, X, y):\n",
    "        \"\"\"\n",
    "            X - matrix\n",
    "            y - result\n",
    "        \"\"\"\n",
    "#         pmi \n",
    "        # class_probs\n",
    "        y_len = len(y)\n",
    "        positive_amount = sum(y)\n",
    "        positive = positive_amount / y_len\n",
    "        negative = 1 - positive\n",
    "        self.class_probs.update([(0, negative), (1, positive)])\n",
    "        print(positive, negative)\n",
    "        # conditional_probabilities\n",
    "        arr_len = len(X[0])\n",
    "        pos_f_in_neg = [0 for i in range(arr_len)]\n",
    "        pos_f_in_pos = [0 for i in range(arr_len)]\n",
    "        pos_f_in_all = [0 for i in range(arr_len)]\n",
    "        for row, y_idx in zip(X, range(y_len)):\n",
    "            for item_idx in range(len(row)):\n",
    "                pos_f_in_all[item_idx] += row[item_idx]\n",
    "                if y[y_idx] == 0:\n",
    "                    pos_f_in_neg[item_idx] += row[item_idx]\n",
    "                else:\n",
    "                    pos_f_in_pos[item_idx] += row[item_idx]\n",
    "                    \n",
    "        pos_f_in_negative = pos_f_in_neg\n",
    "        pos_f_in_positive = pos_f_in_pos\n",
    "        pos_f_in_all_words = pos_f_in_all\n",
    "        \n",
    "        for idx in range(len(pos_f_in_neg)):\n",
    "            pos_f_in_neg[idx] /= (y_len - positive_amount)\n",
    "            pos_f_in_pos[idx] /= (positive_amount)\n",
    "            pos_f_in_all[idx] /= y_len\n",
    "        self.conditional_probabilities.update([(0, pos_f_in_neg), (1, pos_f_in_pos)])\n",
    "        \n",
    "#         pmi\n",
    "        neg_pmi = []\n",
    "        pos_pmi = []\n",
    "        for idx in range(len(pos_f_in_neg)):\n",
    "            neg_pmi.append({idx: pmiCalc(pos_f_in_neg[idx], pos_f_in_all[idx])})\n",
    "            pos_pmi.append({idx: pmiCalc(pos_f_in_pos[idx], pos_f_in_all[idx])})\n",
    "        \n",
    "        self.pmi = dict([(0, neg_pmi), (1, pos_pmi)])\n",
    "\n",
    "#         idf\n",
    "        idf_temp = []\n",
    "        for idx in range(len(pos_f_in_neg)):\n",
    "            temp = pos_f_in_negative[idx]+pos_f_in_positive[idx]\n",
    "            if temp != 0:\n",
    "                idf_temp.append(math.log10(y_len/(temp)))\n",
    "\n",
    "\n",
    "        \n",
    "    def predict(self, X):\n",
    "        result_array = []\n",
    "        f = open('a.txt', 'w')\n",
    "        for row in X:\n",
    "            positive_value = self.class_probs.get(1)\n",
    "            negative_value = self.class_probs.get(0)\n",
    "            f.write(str(positive_value) + \" \" +  str(negative_value) + \"\\n\")\n",
    "            for item_idx in range(len(row)):\n",
    "                \n",
    "                if row[item_idx]:\n",
    "                    if self.conditional_probabilities.get(1)[item_idx] != 0.0:\n",
    "                        positive_value *= self.conditional_probabilities.get(1)[item_idx] \n",
    "                    if self.conditional_probabilities.get(0)[item_idx] != 0.0:\n",
    "                        negative_value *= self.conditional_probabilities.get(0)[item_idx] \n",
    "#                 else:\n",
    "#                     positive_value *= (1 - self.conditional_probabilities.get(1)[item_idx])\n",
    "#                     negative_value *= (1 - self.conditional_probabilities.get(0)[item_idx])\n",
    "                f.write(str(positive_value) + \" \" +  str(negative_value) + \" \" + str(row[item_idx]) + \" \"+ str(self.conditional_probabilities.get(1)[item_idx])+ \" \"+ str(self.conditional_probabilities.get(0)[item_idx]) + \"\\n\")\n",
    "            \n",
    "            result_array.append(1 if positive_value > negative_value else 0)\n",
    "            f.write(\"---\\n\")\n",
    "        return result_array\n"
   ]
  },
  {
   "cell_type": "code",
   "execution_count": 19,
   "metadata": {},
   "outputs": [
    {
     "name": "stdout",
     "output_type": "stream",
     "text": [
      "all:  11330 persent:  10\n",
      "without_rare_and_popular 9064\n",
      "all:  6466 persent:  10\n",
      "without_rare_and_popular 5172\n",
      "len vocab: 11189\n",
      "750 750\n"
     ]
    }
   ],
   "source": [
    "amount = 1000\n",
    "X_train, X_test, y_train, y_test = train_test_split(texts[:amount], sentiment[:amount])\n",
    "train_texts = X_train\n",
    "vocab = get_vocab(X_train)\n",
    "vocab.update(get_vocab(X_test[:amount]))\n",
    "# pmi_vocab = get_pmi_vocab(vocab, X_train, y_train);\n",
    "bow_encoder = BOWencoder(vocab=vocab)\n",
    "print(f'len vocab: {len(vocab)}')\n",
    "X_train = bow_encoder.encode_texts(X_train)\n",
    "X_test = bow_encoder.encode_texts(X_test)\n",
    "print(len(X_train), len(y_train))"
   ]
  },
  {
   "cell_type": "code",
   "execution_count": 13,
   "metadata": {},
   "outputs": [
    {
     "name": "stdout",
     "output_type": "stream",
     "text": [
      "0.492 0.508\n",
      "[0, 1, 0, 0, 0, 0, 1, 0, 0, 0, 1, 0, 0, 1, 1, 1, 0, 0, 0, 0, 0, 0, 0, 1, 1, 0, 0, 0, 0, 1, 1, 0, 1, 1, 0, 1, 0, 1, 1, 0, 0, 1, 1, 1, 1, 0, 0, 0, 0, 0, 1, 0, 0, 1, 1, 1, 0, 0, 0, 1, 0, 0, 0, 0, 1, 1, 1, 1, 1, 0, 0, 0, 1, 0, 1, 1, 0, 1, 0, 1, 1, 0, 0, 1, 1, 0, 1, 1, 1, 0, 1, 1, 1, 0, 0, 0, 0, 0, 1, 0, 1, 1, 0, 0, 1, 0, 0, 1, 1, 1, 1, 0, 0, 1, 0, 0, 0, 0, 1, 0, 1, 0, 1, 0, 0, 1, 1, 0, 0, 0, 0, 1, 0, 1, 0, 1, 1, 0, 0, 0, 1, 0, 1, 1, 1, 0, 0, 1, 0, 0, 0, 1, 1, 0, 0, 0, 0, 1, 0, 0, 0, 0, 1, 1, 0, 1, 0, 0, 1, 1, 0, 0, 0, 0, 1, 0, 1, 0, 0, 1, 1, 1, 0, 1, 0, 1, 0, 1, 0, 0, 1, 1, 1, 1, 0, 0, 0, 0, 0, 0, 1, 1, 1, 1, 0, 0, 0, 0, 0, 1, 0, 0, 1, 1, 0, 1, 0, 1, 0, 1, 1, 0, 0, 1, 0, 0, 0, 0, 1, 0, 0, 0, 0, 0, 0, 0, 0, 0, 1, 0, 0, 0, 0, 1, 1, 1, 0, 1, 0, 0]\n",
      "[0, 0, 0, 1, 1, 1, 0, 0, 1, 0, 0, 1, 0, 0, 0, 0, 1, 1, 1, 1, 1, 1, 0, 0, 0, 0, 0, 0, 1, 1, 0, 0, 0, 1, 1, 0, 0, 0, 1, 1, 0, 0, 0, 1, 0, 0, 0, 0, 1, 1, 1, 0, 1, 1, 0, 0, 0, 0, 1, 0, 0, 1, 1, 0, 0, 0, 0, 0, 0, 1, 0, 1, 1, 1, 0, 1, 0, 0, 1, 0, 0, 1, 1, 0, 0, 1, 0, 0, 0, 1, 0, 1, 0, 1, 1, 0, 1, 1, 0, 0, 0, 0, 0, 1, 0, 0, 1, 0, 0, 1, 0, 1, 0, 0, 1, 1, 1, 1, 0, 1, 0, 0, 0, 0, 1, 1, 0, 1, 0, 1, 0, 0, 0, 0, 1, 1, 0, 1, 1, 1, 1, 1, 1, 1, 1, 0, 1, 0, 0, 0, 1, 0, 0, 0, 1, 0, 1, 1, 1, 0, 1, 1, 0, 0, 1, 1, 1, 0, 0, 0, 0, 1, 1, 1, 0, 0, 1, 0, 1, 1, 0, 0, 1, 1, 0, 0, 1, 1, 0, 0, 0, 1, 1, 0, 1, 0, 0, 0, 0, 1, 0, 1, 0, 0, 0, 1, 0, 1, 0, 0, 1, 1, 1, 0, 0, 1, 1, 0, 0, 0, 0, 0, 0, 0, 1, 1, 0, 1, 0, 1, 0, 0, 1, 1, 1, 0, 1, 1, 1, 1, 1, 1, 0, 0, 0, 0, 1, 0, 1, 1]\n"
     ]
    }
   ],
   "source": [
    "model = NaiveBayesClassifier(n_classes=2)\n",
    "model.fit(X_train, y_train)\n",
    "y_pred = model.predict(X_test)\n",
    "print(y_pred)\n",
    "print(y_test[:amount])"
   ]
  },
  {
   "cell_type": "code",
   "execution_count": 14,
   "metadata": {},
   "outputs": [
    {
     "name": "stdout",
     "output_type": "stream",
     "text": [
      "              precision    recall  f1-score   support\n",
      "\n",
      "           0       0.45      0.42      0.43       146\n",
      "           1       0.25      0.27      0.26       104\n",
      "\n",
      "    accuracy                           0.36       250\n",
      "   macro avg       0.35      0.34      0.34       250\n",
      "weighted avg       0.36      0.36      0.36       250\n",
      "\n"
     ]
    }
   ],
   "source": [
    "print(classification_report(y_pred, y_test[:amount]))"
   ]
  },
  {
   "cell_type": "code",
   "execution_count": 15,
   "metadata": {},
   "outputs": [
    {
     "name": "stdout",
     "output_type": "stream",
     "text": [
      "['with', 'stuff', 'go', 'moment', 'mj', 'start', 'listen', 'music', 'watch', 'odd', 'documentari', 'watch', 'the', 'wiz', 'watch', 'moonwalk', 'mayb', 'want', 'get', 'certain', 'insight', 'guy', 'thought', 'realli', 'cool', 'eighti', 'mayb', 'make', 'mind', 'whether', 'guilti', 'innoc', 'moonwalk', 'part', 'biographi', 'part', 'featur', 'film', 'rememb', 'go', 'see', 'cinema', 'origin', 'releas', 'some', 'subtl', 'messag', 'mj', 'feel', 'toward', 'press', 'also', 'obviou', 'messag', 'drug', 'bad', 'kay', 'visual', 'impress', 'cours', 'michael', 'jackson', 'unless', 'remot', 'like', 'mj', 'anyway', 'go', 'hate', 'find', 'bore', 'some', 'may', 'call', 'mj', 'egotist', 'consent', 'make', 'movi', 'but', 'mj', 'fan', 'would', 'say', 'made', 'fan', 'true', 'realli', 'nice', 'the', 'actual', 'featur', 'film', 'bit', 'final', 'start', '20', 'minut', 'exclud', 'smooth', 'crimin', 'sequenc', 'joe', 'pesci', 'convinc', 'psychopath', 'power', 'drug', 'lord', 'whi', 'want', 'mj', 'dead', 'bad', 'beyond', 'becaus', 'mj', 'overheard', 'plan', 'nah', 'joe', 'pesci', 'charact', 'rant', 'want', 'peopl', 'know', 'suppli', 'drug', 'etc', 'dunno', 'mayb', 'hate', 'mj', 'music', 'lot', 'cool', 'thing', 'like', 'mj', 'turn', 'car', 'robot', 'whole', 'speed', 'demon', 'sequenc', 'also', 'director', 'must', 'patienc', 'saint', 'came', 'film', 'kiddi', 'bad', 'sequenc', 'usual', 'director', 'hate', 'work', 'one', 'kid', 'let', 'alon', 'whole', 'bunch', 'perform', 'complex', 'danc', 'scene', 'bottom', 'line', 'movi', 'peopl', 'like', 'mj', 'one', 'level', 'anoth', 'think', 'peopl', 'if', 'stay', 'away', 'it', 'tri', 'give', 'wholesom', 'messag', 'iron', 'mj', 'bestest', 'buddi', 'movi', 'girl', 'michael', 'jackson', 'truli', 'one', 'talent', 'peopl', 'ever', 'grace', 'planet', 'guilti', 'well', 'attent', 'gave', 'subject', 'hmmm', 'well', 'know', 'peopl', 'differ', 'behind', 'close', 'door', 'know', 'fact', 'he', 'either', 'extrem', 'nice', 'stupid', 'guy', 'one', 'sickest', 'liar', 'i', 'hope', 'latter']\n"
     ]
    }
   ],
   "source": [
    "# clean text\n",
    "import re\n",
    "from nltk.corpus import stopwords\n",
    "from nltk.tokenize import RegexpTokenizer\n",
    "from nltk.stem import PorterStemmer\n",
    "\n",
    "cleanr = re.compile('<.*?>|&([a-z0-9]+|#[0-9]{1,6}|#x[0-9a-f]{1,6});')\n",
    "\n",
    "def cleanhtml(text):\n",
    "    cleanr = re.compile('<.*?>')\n",
    "    cleantext = re.sub(cleanr, '', text)\n",
    "    return cleantext\n",
    "\n",
    "def word_tokenize(text):\n",
    "    tokenizer = RegexpTokenizer(r'\\w+')#fix\n",
    "    clean = tokenizer.tokenize(text)\n",
    "    return clean\n",
    "   \n",
    "def stop_words(tokenize_words):\n",
    "    stopWords = set(stopwords.words('english'))\n",
    "    wordsFiltered = []\n",
    "    for w in tokenize_words:\n",
    "        if w not in stopWords:\n",
    "            wordsFiltered.append(w.lower())\n",
    "    return wordsFiltered\n",
    "\n",
    "\n",
    "def stem(text_arr):\n",
    "    ps = PorterStemmer()\n",
    "    stem_arr = []\n",
    "    for word in text_arr:\n",
    "        stem_arr.append(ps.stem(word))\n",
    "    return stem_arr\n",
    "\n",
    "def preprocess_text(text):\n",
    "    #clean html \n",
    "    clean = cleanhtml(text)\n",
    "    \n",
    "    # tokenize and remove punctuation \n",
    "    tokenize = word_tokenize(clean)\n",
    "    \n",
    "    # stop words\n",
    "    stop = stop_words(tokenize)\n",
    "    \n",
    "    # stem \n",
    "    stem_arr = stem(stop)\n",
    "    \n",
    "    return stem_arr\n",
    "\n",
    "\n",
    "def preprocess_texts(texts):\n",
    "    tmp_set = set()\n",
    "    for text in texts:\n",
    "        arr = preprocess_text(text) \n",
    "        tmp_set.update(arr)\n",
    "    return tmp_set\n",
    "\n",
    "print(preprocess_text(df.to_dict('records')[0]['review']))"
   ]
  },
  {
   "cell_type": "code",
   "execution_count": 16,
   "metadata": {},
   "outputs": [
    {
     "name": "stdout",
     "output_type": "stream",
     "text": [
      "precision:  0.2692307692307692 0.4178082191780822\n",
      "recall:  0.24778761061946902 0.44525547445255476\n",
      "F:  0.25806451612903225 0.43109540636042404\n",
      "balanced_accuracy:  0.12340754085703257\n"
     ]
    }
   ],
   "source": [
    "TP = 0\n",
    "TN = 0\n",
    "FP = 0\n",
    "FN = 0\n",
    "\n",
    "for i in range(len(y_pred)):\n",
    "    if y_test[i] == y_pred[i] and y_test[i] == 1:\n",
    "        TP += 1\n",
    "    if y_test[i] == y_pred[i] and y_test[i] == 0:\n",
    "        TN += 1\n",
    "    if y_test[i] != y_pred[i] and y_test[i] == 1:\n",
    "        FN += 1\n",
    "    if y_test[i] != y_pred[i] and y_test[i] == 0:\n",
    "        FP += 1\n",
    "\n",
    "precision_1 = TP / (TP + FP) if (TP + FP) > 0 else 0\n",
    "precision_0 = TN / (FN + TN) if (FN + TN) > 0 else 0\n",
    "recall_1 = TP / (TP + FN) if (TP + FN) > 0 else 0\n",
    "recall_0 = TN / (TN + FP) if (TN + FP) > 0 else 0\n",
    "\n",
    "print(\"precision: \", precision_1, precision_0)\n",
    "print(\"recall: \", recall_1, recall_0)\n",
    "\n",
    "f_measure_1 = 2 * precision_1 * recall_1 / (precision_1 + recall_1) if (precision_1 + recall_1) > 0 else 0\n",
    "f_measure_0 = 2 * precision_0 * recall_0 / (precision_0 + recall_0) if (precision_0 + recall_0) > 0 else 0\n",
    "\n",
    "print(\"F: \", f_measure_1, f_measure_0)\n",
    "\n",
    "balanced_accuracy = 1/ 2 * (TP / ((TP+FN) + TN / (TN+FP)))\n",
    "print(\"balanced_accuracy: \", balanced_accuracy)"
   ]
  }
 ],
 "metadata": {
  "kernelspec": {
   "display_name": "Python 3",
   "language": "python",
   "name": "python3"
  },
  "language_info": {
   "codemirror_mode": {
    "name": "ipython",
    "version": 3
   },
   "file_extension": ".py",
   "mimetype": "text/x-python",
   "name": "python",
   "nbconvert_exporter": "python",
   "pygments_lexer": "ipython3",
   "version": "3.7.3"
  }
 },
 "nbformat": 4,
 "nbformat_minor": 5
}
